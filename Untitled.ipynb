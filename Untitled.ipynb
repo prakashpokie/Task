{
 "cells": [
  {
   "cell_type": "code",
   "execution_count": 22,
   "id": "bb8225ee-a75a-44b0-a466-40303d80361c",
   "metadata": {},
   "outputs": [
    {
     "name": "stdout",
     "output_type": "stream",
     "text": [
      "Bot : Thanks for your keen interest. Further, ₹100 is the picked product's worth.\n"
     ]
    },
    {
     "name": "stdin",
     "output_type": "stream",
     "text": [
      "Cus : Can we go for  102\n"
     ]
    },
    {
     "name": "stdout",
     "output_type": "stream",
     "text": [
      "Bot : Error In reality, the cost is ₹100. You can now access ₹100. ₹100 Is this okay? Put \"yes\" in here.\n"
     ]
    },
    {
     "name": "stdin",
     "output_type": "stream",
     "text": [
      "Cus :  mom\n"
     ]
    },
    {
     "name": "stdout",
     "output_type": "stream",
     "text": [
      "Error, Enter Yes or No\n"
     ]
    },
    {
     "name": "stdin",
     "output_type": "stream",
     "text": [
      "Cus :  no\n"
     ]
    },
    {
     "name": "stdout",
     "output_type": "stream",
     "text": [
      "Bot : Enter a new amount that is equal to or less than 100.\n"
     ]
    },
    {
     "name": "stdin",
     "output_type": "stream",
     "text": [
      "Cut:  85\n"
     ]
    },
    {
     "name": "stdout",
     "output_type": "stream",
     "text": [
      "Bot :Buddy, we can go for ₹95. Is the deal is ok Enter yes\n"
     ]
    },
    {
     "name": "stdin",
     "output_type": "stream",
     "text": [
      "Cus :  no\n"
     ]
    },
    {
     "name": "stdout",
     "output_type": "stream",
     "text": [
      "Bot : The final price is Buddy ₹90. Is this a good deal? Put yes here.\n"
     ]
    },
    {
     "name": "stdin",
     "output_type": "stream",
     "text": [
      "Cus :  yes\n"
     ]
    },
    {
     "name": "stdout",
     "output_type": "stream",
     "text": [
      "Bot : Lastly, ₹90 is the price. I thank you making purchases.\n"
     ]
    }
   ],
   "source": [
    "class main:\n",
    "    def __init__(self,price):\n",
    "        self.price=price\n",
    "        self.max=100\n",
    "        self.min=75\n",
    "\n",
    "\n",
    "    def detail2(self):\n",
    "            if self.price<99 and self.price>90:\n",
    "                self.price+=1\n",
    "                print(f'Bot : I\\'m sorry, but ₹{self.price} will work for us. Is this a good deal? Put yes here.')\n",
    "                d3=input('Cus : ')\n",
    "                d1=0\n",
    "                if 'Y'==d3[0] or 'y'==d3[0]:\n",
    "                    d1+=1\n",
    "                if d1 < 1:\n",
    "                    self.price-=1\n",
    "                    print(f'Bot : Alright, let\\'s go on to ₹{self.price}. I thank you for making purchases.')\n",
    "                else:\n",
    "                    print(f'Bot : Lastly, ₹{self.price} is the price. I thank you making purchases.')\n",
    "\n",
    "    \n",
    "    def detail(self):\n",
    "            if self.price<90:\n",
    "                self.price+=10\n",
    "                print(f'Bot : I\\'m sorry, but ₹{self.price} will work for us. Is this a good deal? Put yes here.')\n",
    "                d3=input('Cus : ')\n",
    "                d1=0\n",
    "                if 'Y'==d3[0] or 'y'==d3[0]:\n",
    "                    d1+=1\n",
    "                if d1 < 1:\n",
    "                    self.price-=5\n",
    "                    print(f'Bot : The final price is Buddy ₹{self.price}. Is this a good deal? Put yes here.')\n",
    "                    d2=input('Cus : ')\n",
    "                    d4=0\n",
    "                    if 'Y'==d2[0] or 'y'==d2[0]:\n",
    "                        d1+=1\n",
    "                    if d1>0:\n",
    "                        print(f'Bot : Lastly, ₹{self.price} is the price. I thank you making purchases.')\n",
    "                    else:\n",
    "                        print(f'Bot : Sorry, but I\\'m unable to make it. Is it okay if we go with ₹{self.price}? Put yes here.')\n",
    "                        d5=input('Cus : ')\n",
    "                        if 'Y'== d5[0] or 'y'== d5[0]:\n",
    "                            d1+=1\n",
    "                        if d1>0:\n",
    "                            print(f'Bot : Lastly, ₹{self.price} is the price. I thank you making purchases')\n",
    "                        else:\n",
    "                            print(f'Bot : We apologize for not being able to meet your needs. Next time, WE\\'ll bring you one that\\'s better.')\n",
    "                else:\n",
    "                    print(f'Bot : Lastly, ₹{self.price} is the price. I thank you making purchases.')\n",
    "\n",
    "\n",
    "\n",
    "    \n",
    "\n",
    "    \n",
    "    def detail1(self):\n",
    "        if self.price != 100:\n",
    "            if self.price<=90:\n",
    "                self.min+=20\n",
    "                print(f'Bot :Buddy, we can go for ₹{self.min}. Is the deal is ok Enter yes')\n",
    "                d3=input('Cus : ')\n",
    "                d1=0\n",
    "                if 'Y'==d3[0] or 'y'==d3[0]:\n",
    "                    d1+=1\n",
    "                if d1 < 1:\n",
    "                    self.min-=5\n",
    "                    print(f'Bot : The final price is Buddy ₹{self.min}. Is this a good deal? Put yes here.')\n",
    "                    d2=input('Cus : ')\n",
    "                    d4=0\n",
    "                    if 'Y'==d2[0] or 'y'==d2[0]:\n",
    "                        d1+=1\n",
    "                    if d1>0:\n",
    "                        print(f'Bot : Lastly, ₹{self.min} is the price. I thank you making purchases.')\n",
    "                    else:\n",
    "                        print(f'Bot : Sorry, but I\\'m unable to make it. Is it okay if we go with ₹{self.min}? Put yes here.')\n",
    "                        d5=input('Cus : ')\n",
    "                        if 'Y'==d5[0] or 'y'==d5[0]:\n",
    "                            d1+=1\n",
    "                        if d1>0:\n",
    "                            print(f'Bot : Lastly, ₹{self.min} is the price. I thank you making purchases')\n",
    "                        else:\n",
    "                            print(f'Bot : We apologize for not being able to meet your needs. Next time, WE\\'ll bring you one that\\'s better.')\n",
    "                else:\n",
    "                    print(f'Bot : Lastly, ₹{self.min} is the price. I thank you making purchases.')\n",
    "        else:\n",
    "            print(f'Bot : Lastly, ₹{self.max} is the price. I thank you making purchases.')\n",
    "\n",
    "\n",
    "\n",
    "    \n",
    "\n",
    "    \n",
    "    def rat(self):\n",
    "        f=input('Cus : ')\n",
    "        r=0\n",
    "        if 'Y'==f[0] or 'y'==f[0]:\n",
    "            r+=1\n",
    "        if r>0:\n",
    "            self.detail1()\n",
    "        else:\n",
    "            print(f'Bot : We apologize for not being able to meet your needs. Next time, WE\\'ll bring you one that\\'s better.')\n",
    "\n",
    "\n",
    "\n",
    "\n",
    "\n",
    "    \n",
    "            \n",
    "    def rat1(self):\n",
    "        f=input('Cus : ')\n",
    "        r=0\n",
    "        if 'N'==f[0] or 'n'==f[0]:\n",
    "            r+=1\n",
    "        if r>0:\n",
    "            print(f'Bot : Enter a new amount that is equal to or less than 100.')\n",
    "            self.price=int(input('Cut: '))\n",
    "            if self.price >= 75:\n",
    "                self.detail1()\n",
    "            else:\n",
    "                print(f'Bot: Sorry, we can\\'t make a deal for ₹{self.price}. So, can we make the price higher than ₹{self.min} is ok? Put \"yes\" here.')\n",
    "                self.rat()\n",
    "        elif 'Y'==f[0] or 'y'==f[0]:\n",
    "            print(f'Bot : Lastly, ₹{self.max} is the price. I thank you making purchases.')\n",
    "        else:\n",
    "            print(f'Error, Enter Yes or No')\n",
    "            self.rat1()\n",
    "\n",
    "\n",
    "\n",
    "\n",
    "\n",
    "\n",
    "\n",
    "    \n",
    "    def Negosation(self):\n",
    "        if self.price != self.max:\n",
    "            if self.price < self.max:\n",
    "                if self.price >= self.min:\n",
    "                    if self.price < 90:\n",
    "                        self.detail()\n",
    "                    else:\n",
    "                        self.detail2()\n",
    "                else:\n",
    "                    print(f'Bot: Sorry, we can\\'t make a deal for ₹{self.price}. So, can we make the price higher than ₹{self.min} is ok? Put \"yes\" here.')\n",
    "                    self.rat()\n",
    "            else:\n",
    "                print(f'Bot : Error In reality, the cost is ₹{self.max}. You can now access ₹{self.max}. ₹{self.max} Is this okay? Put \"yes\" in here.')\n",
    "                self.rat1()\n",
    "        else:\n",
    "            print(f'Bot : Sure, we can make the deal; ₹{self.max} is the real cost.')\n",
    "\n",
    "\n",
    "\n",
    "\n",
    "\n",
    "\n",
    "\n",
    "\n",
    "print(f'Bot : Thanks for your keen interest. Further, ₹100 is the picked product\\'s worth.')\n",
    "v=int(input('Cus : Can we go for '))\n",
    "d=main(v)\n",
    "d.Negosation()"
   ]
  },
  {
   "cell_type": "code",
   "execution_count": null,
   "id": "68ce2c83-3692-433d-a0a3-11335fe7a79d",
   "metadata": {},
   "outputs": [],
   "source": []
  }
 ],
 "metadata": {
  "kernelspec": {
   "display_name": "Python 3 (ipykernel)",
   "language": "python",
   "name": "python3"
  },
  "language_info": {
   "codemirror_mode": {
    "name": "ipython",
    "version": 3
   },
   "file_extension": ".py",
   "mimetype": "text/x-python",
   "name": "python",
   "nbconvert_exporter": "python",
   "pygments_lexer": "ipython3",
   "version": "3.11.7"
  }
 },
 "nbformat": 4,
 "nbformat_minor": 5
}
